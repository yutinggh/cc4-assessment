{
 "cells": [
  {
   "cell_type": "markdown",
   "metadata": {},
   "source": [
    "### Install required packages"
   ]
  },
  {
   "cell_type": "code",
   "execution_count": null,
   "metadata": {},
   "outputs": [],
   "source": [
    "%pip install requests openpyxl"
   ]
  },
  {
   "cell_type": "markdown",
   "metadata": {},
   "source": [
    "### 1a. Extract the following fields and store the data as restaurants.csv."
   ]
  },
  {
   "cell_type": "code",
   "execution_count": 2,
   "metadata": {},
   "outputs": [
    {
     "name": "stdout",
     "output_type": "stream",
     "text": [
      "Data has been extracted and stored in restaurants.csv\n",
      "First few rows of restaurants.csv:\n",
      "   Restaurant Id       Restaurant Name Country       City  User Rating Votes  \\\n",
      "0       18649486  The Drunken Botanist   India    Gurgaon               4765   \n",
      "1         308322      Hauz Khas Social   India  New Delhi              13627   \n",
      "2       18856789  AIR- An Ivory Region   India  New Delhi               1819   \n",
      "3         307374              AMA Cafe   India  New Delhi               3252   \n",
      "4       18238278               Tamasha   India  New Delhi               8112   \n",
      "\n",
      "   User Aggregate Rating                                           Cuisines  \n",
      "0                    4.4        Continental, Italian, North Indian, Chinese  \n",
      "1                    4.6  Continental, American, Asian, North Indian, Ch...  \n",
      "2                    4.1          North Indian, Chinese, Continental, Asian  \n",
      "3                    4.4                                       Cafe, Juices  \n",
      "4                    4.4    Finger Food, North Indian, Continental, Italian  \n"
     ]
    }
   ],
   "source": [
    "import json\n",
    "import csv\n",
    "import requests\n",
    "import pandas as pd\n",
    "\n",
    "# URL of the JSON data\n",
    "url = \"https://raw.githubusercontent.com/Papagoat/brain-assessment/main/restaurant_data.json\"\n",
    "\n",
    "# Fetch the JSON data from the URL\n",
    "response = requests.get(url)\n",
    "data = response.json()\n",
    "\n",
    "# Load country codes using pandas\n",
    "country_mapping = {}\n",
    "country_code_file = 'Country-Code.xlsx'\n",
    "country_code_df = pd.read_excel(country_code_file)\n",
    "for index, row in country_code_df.iterrows():\n",
    "    country_mapping[row['Country Code']] = row['Country']\n",
    "\n",
    "# Extract fields and write to CSV\n",
    "with open('restaurants.csv', 'w', newline='', encoding='utf-8') as csvfile:\n",
    "    writer = csv.writer(csvfile)\n",
    "    # Write header\n",
    "    writer.writerow(['Restaurant Id', 'Restaurant Name', 'Country', 'City', 'User Rating Votes', 'User Aggregate Rating', 'Cuisines'])\n",
    "\n",
    "    # Extract information for each restaurant\n",
    "    for result in data:\n",
    "        restaurants = result.get('restaurants', [])\n",
    "        for restaurant_info in restaurants:\n",
    "            restaurant = restaurant_info.get('restaurant', {})\n",
    "            restaurant_id = restaurant.get('R', {}).get('res_id', '')\n",
    "            restaurant_name = restaurant.get('name', '')\n",
    "            country_code = restaurant.get('location', {}).get('country_id', '')\n",
    "            country = country_mapping.get(country_code, '')\n",
    "            city = restaurant.get('location', {}).get('city', '')\n",
    "            user_rating_votes = restaurant.get('user_rating', {}).get('votes', '')\n",
    "            user_aggregate_rating = restaurant.get('user_rating', {}).get('aggregate_rating', '')\n",
    "            cuisines = restaurant.get('cuisines', '')\n",
    "\n",
    "            # Write data to CSV\n",
    "            writer.writerow([restaurant_id, restaurant_name, country, city, user_rating_votes, user_aggregate_rating, cuisines])\n",
    "\n",
    "print(\"Data has been extracted and stored in restaurants.csv\")\n",
    "\n",
    "# Read the CSV file and print the first few rows\n",
    "df = pd.read_csv('restaurants.csv')\n",
    "print(\"First few rows of restaurants.csv:\")\n",
    "print(df.head())\n"
   ]
  },
  {
   "cell_type": "markdown",
   "metadata": {},
   "source": [
    "### 2a. Extract the list of restaurants that have past event in the month of April 2019 and store the data as restaurant_events.csv."
   ]
  },
  {
   "cell_type": "code",
   "execution_count": 3,
   "metadata": {},
   "outputs": [
    {
     "name": "stdout",
     "output_type": "stream",
     "text": [
      "Data has been extracted and stored in restaurant_events.csv\n",
      "First few rows of restaurant_events.csv:\n",
      "   Event Id  Restaurant Id       Restaurant Name  \\\n",
      "0    336644       18856789  AIR- An Ivory Region   \n",
      "1    336889       18382360                 Local   \n",
      "2    336888       18382360                 Local   \n",
      "3    336890       18382360                 Local   \n",
      "4    336894       18382360                 Local   \n",
      "\n",
      "                                           Photo URL         Event Title  \\\n",
      "0  https://b.zmtcdn.com/data/zomato_events/photos...  Dhol Bhangra Night   \n",
      "1                                                NaN  Cocktail Wednesday   \n",
      "2                                                NaN  Cocktail Wednesday   \n",
      "3  https://b.zmtcdn.com/data/zomato_events/photos...  Cocktail Wednesday   \n",
      "4  https://b.zmtcdn.com/data/zomato_events/photos...      Hip Hop Friday   \n",
      "\n",
      "  Event Start Date Event End Date  \n",
      "0       2019-04-10     2019-04-11  \n",
      "1       2019-04-10     2019-04-10  \n",
      "2       2019-04-10     2019-04-10  \n",
      "3       2019-04-10     2019-04-10  \n",
      "4       2019-04-12     2019-04-12  \n"
     ]
    }
   ],
   "source": [
    "import json\n",
    "import csv\n",
    "import requests\n",
    "from datetime import datetime\n",
    "\n",
    "# Function to check if the event falls within April 2019\n",
    "def is_april_2019(event_date):\n",
    "    try:\n",
    "        date_obj = datetime.strptime(event_date, '%Y-%m-%d')\n",
    "        return date_obj.year == 2019 and date_obj.month == 4\n",
    "    except ValueError:\n",
    "        return False\n",
    "\n",
    "# Function to replace empty values with \"NA\"\n",
    "def replace_empty(value):\n",
    "    return value if value else \"NA\"\n",
    "\n",
    "# URL of the JSON data\n",
    "url = \"https://raw.githubusercontent.com/Papagoat/brain-assessment/main/restaurant_data.json\"\n",
    "\n",
    "# Fetch the JSON data from the URL\n",
    "response = requests.get(url)\n",
    "data = response.json()\n",
    "\n",
    "# Extract fields and write to CSV\n",
    "with open('restaurant_events.csv', 'w', newline='', encoding='utf-8') as csvfile:\n",
    "    writer = csv.writer(csvfile)\n",
    "    # Write header\n",
    "    writer.writerow(['Event Id', 'Restaurant Id', 'Restaurant Name', 'Photo URL', 'Event Title', 'Event Start Date', 'Event End Date'])\n",
    "\n",
    "    # Extract information for each restaurant with past events in April 2019\n",
    "    for result in data:\n",
    "        restaurants = result.get('restaurants', [])\n",
    "        for restaurant_info in restaurants:\n",
    "            restaurant = restaurant_info.get('restaurant', {})\n",
    "            events = restaurant.get('zomato_events', [])\n",
    "            for event_info in events:\n",
    "                event = event_info.get('event', {})\n",
    "                event_start_date = event.get('start_date', '')\n",
    "                event_end_date = event.get('end_date', '')\n",
    "                if is_april_2019(event_start_date):\n",
    "                    event_id = event.get('event_id', '')\n",
    "                    restaurant_id = restaurant.get('R', {}).get('res_id', '')\n",
    "                    restaurant_name = restaurant.get('name', '')\n",
    "                    event_title = event.get('title', '')\n",
    "                    photo_url = replace_empty(event['photos'][0]['photo'].get('url', '') if event.get('photos') else '')\n",
    "\n",
    "                    # Write data to CSV\n",
    "                    writer.writerow([event_id, restaurant_id, restaurant_name, photo_url, event_title, event_start_date, event_end_date])\n",
    "\n",
    "print(\"Data has been extracted and stored in restaurant_events.csv\")\n",
    "\n",
    "# Read the CSV file and print the first few rows\n",
    "df = pd.read_csv('restaurant_events.csv')\n",
    "print(\"First few rows of restaurant_events.csv:\")\n",
    "print(df.head())\n"
   ]
  },
  {
   "cell_type": "markdown",
   "metadata": {},
   "source": [
    "##### 2b. Unit Test"
   ]
  },
  {
   "cell_type": "code",
   "execution_count": 4,
   "metadata": {},
   "outputs": [
    {
     "name": "stderr",
     "output_type": "stream",
     "text": [
      "..\n",
      "----------------------------------------------------------------------\n",
      "Ran 2 tests in 0.002s\n",
      "\n",
      "OK\n"
     ]
    },
    {
     "name": "stdout",
     "output_type": "stream",
     "text": [
      "Test is_april_2019 passed successfully!\n",
      "Test is_april_2019 passed successfully!\n",
      "Test is_april_2019 passed successfully!\n",
      "Test replace_empty passed successfully!\n",
      "Test replace_empty passed successfully!\n",
      "Test replace_empty passed successfully!\n"
     ]
    },
    {
     "data": {
      "text/plain": [
       "<unittest.main.TestProgram at 0x280725ca750>"
      ]
     },
     "execution_count": 4,
     "metadata": {},
     "output_type": "execute_result"
    }
   ],
   "source": [
    "import unittest\n",
    "from datetime import datetime\n",
    "\n",
    "def is_april_2019(event_date):\n",
    "    try:\n",
    "        date_obj = datetime.strptime(event_date, '%Y-%m-%d')\n",
    "        return date_obj.year == 2019 and date_obj.month == 4\n",
    "    except ValueError:\n",
    "        return False\n",
    "\n",
    "def replace_empty(value):\n",
    "    return value if value else \"NA\"\n",
    "\n",
    "# unit tests\n",
    "class TestFunctions(unittest.TestCase):\n",
    "\n",
    "    def test_is_april_2019(self):\n",
    "        # Test with a date in April 2019\n",
    "        self.assertTrue(is_april_2019('2019-04-15'))\n",
    "        print(\"Test is_april_2019 passed successfully!\")\n",
    "\n",
    "        # Test with a date outside of April 2019\n",
    "        self.assertFalse(is_april_2019('2019-05-15'))\n",
    "        print(\"Test is_april_2019 passed successfully!\")\n",
    "\n",
    "        # Test with an invalid date format\n",
    "        self.assertFalse(is_april_2019('invalid_date_format'))\n",
    "        print(\"Test is_april_2019 passed successfully!\")\n",
    "\n",
    "    def test_replace_empty(self):\n",
    "        # Test with a non-empty value\n",
    "        self.assertEqual(replace_empty('value'), 'value')\n",
    "        print(\"Test replace_empty passed successfully!\")\n",
    "\n",
    "        # Test with an empty value\n",
    "        self.assertEqual(replace_empty(''), 'NA')\n",
    "        print(\"Test replace_empty passed successfully!\")\n",
    "\n",
    "        # Test with None\n",
    "        self.assertEqual(replace_empty(None), 'NA')\n",
    "        print(\"Test replace_empty passed successfully!\")\n",
    "\n",
    "# Run the unit tests\n",
    "unittest.main(argv=[''], exit=False)\n"
   ]
  },
  {
   "cell_type": "markdown",
   "metadata": {},
   "source": [
    "### 3a. From the dataset, determine the threshold for the different rating text based on aggregate rating. Return aggregates for the following ratings only"
   ]
  },
  {
   "cell_type": "code",
   "execution_count": 5,
   "metadata": {},
   "outputs": [
    {
     "name": "stdout",
     "output_type": "stream",
     "text": [
      "Excellent: Min - 4.5, Max - 4.9\n",
      "Very Good: Min - 4.0, Max - 4.4\n",
      "Good: Min - 3.5, Max - 3.9\n",
      "Average: Min - 2.5, Max - 3.4\n",
      "Poor: Min - 2.2, Max - 2.2\n"
     ]
    }
   ],
   "source": [
    "import requests\n",
    "\n",
    "# URL of the JSON data\n",
    "url = \"https://raw.githubusercontent.com/Papagoat/brain-assessment/main/restaurant_data.json\"\n",
    "\n",
    "# Fetch the JSON data from the URL\n",
    "response = requests.get(url)\n",
    "data = response.json()\n",
    "\n",
    "# Initialize dictionaries to store aggregate ratings for different rating texts\n",
    "rating_thresholds = {\n",
    "    \"Excellent\": {\"min\": float('inf'), \"max\": float('-inf')},\n",
    "    \"Very Good\": {\"min\": float('inf'), \"max\": float('-inf')},\n",
    "    \"Good\": {\"min\": float('inf'), \"max\": float('-inf')},\n",
    "    \"Average\": {\"min\": float('inf'), \"max\": float('-inf')},\n",
    "    \"Poor\": {\"min\": float('inf'), \"max\": float('-inf')}\n",
    "}\n",
    "\n",
    "# Iterate through the data to find rating thresholds\n",
    "for result in data:\n",
    "    restaurants = result.get('restaurants', [])\n",
    "    for restaurant_info in restaurants:\n",
    "        restaurant = restaurant_info.get('restaurant', {})\n",
    "        user_rating = restaurant.get('user_rating', {})\n",
    "        aggregate_rating = float(user_rating.get('aggregate_rating', 0))\n",
    "        rating_text = user_rating.get('rating_text', '')\n",
    "\n",
    "        # Update rating thresholds\n",
    "        if rating_text in rating_thresholds:\n",
    "            if aggregate_rating < rating_thresholds[rating_text][\"min\"]:\n",
    "                rating_thresholds[rating_text][\"min\"] = aggregate_rating\n",
    "            if aggregate_rating > rating_thresholds[rating_text][\"max\"]:\n",
    "                rating_thresholds[rating_text][\"max\"] = aggregate_rating\n",
    "\n",
    "# Print the rating thresholds\n",
    "for rating_text, thresholds in rating_thresholds.items():\n",
    "    print(f\"{rating_text}: Min - {thresholds['min']}, Max - {thresholds['max']}\")\n"
   ]
  },
  {
   "cell_type": "markdown",
   "metadata": {},
   "source": [
    "##### 3b. Unit Test"
   ]
  },
  {
   "cell_type": "code",
   "execution_count": 6,
   "metadata": {},
   "outputs": [
    {
     "name": "stdout",
     "output_type": "stream",
     "text": [
      "Unit test passed: Rating thresholds match expected values.\n"
     ]
    }
   ],
   "source": [
    "def get_rating_thresholds(data):\n",
    "    rating_thresholds = {\n",
    "        \"Excellent\": {\"min\": float('inf'), \"max\": float('-inf')},\n",
    "        \"Very Good\": {\"min\": float('inf'), \"max\": float('-inf')},\n",
    "        \"Good\": {\"min\": float('inf'), \"max\": float('-inf')},\n",
    "        \"Average\": {\"min\": float('inf'), \"max\": float('-inf')},\n",
    "        \"Poor\": {\"min\": float('inf'), \"max\": float('-inf')}\n",
    "    }\n",
    "\n",
    "    for result in data:\n",
    "        restaurants = result.get('restaurants', [])\n",
    "        for restaurant_info in restaurants:\n",
    "            restaurant = restaurant_info.get('restaurant', {})\n",
    "            user_rating = restaurant.get('user_rating', {})\n",
    "            aggregate_rating = float(user_rating.get('aggregate_rating', 0))\n",
    "            rating_text = user_rating.get('rating_text', '')\n",
    "\n",
    "            if rating_text in rating_thresholds:\n",
    "                if aggregate_rating < rating_thresholds[rating_text][\"min\"]:\n",
    "                    rating_thresholds[rating_text][\"min\"] = aggregate_rating\n",
    "                if aggregate_rating > rating_thresholds[rating_text][\"max\"]:\n",
    "                    rating_thresholds[rating_text][\"max\"] = aggregate_rating\n",
    "\n",
    "    return rating_thresholds\n",
    "\n",
    "# Unit tests\n",
    "mock_data = [\n",
    "    {\n",
    "        \"restaurants\": [\n",
    "            {\n",
    "                \"restaurant\": {\n",
    "                    \"user_rating\": {\n",
    "                        \"aggregate_rating\": \"4.0\",\n",
    "                        \"rating_text\": \"Good\"\n",
    "                    }\n",
    "                }\n",
    "            },\n",
    "            {\n",
    "                \"restaurant\": {\n",
    "                    \"user_rating\": {\n",
    "                        \"aggregate_rating\": \"4.8\",\n",
    "                        \"rating_text\": \"Excellent\"\n",
    "                    }\n",
    "                }\n",
    "            },\n",
    "            {\n",
    "                \"restaurant\": {\n",
    "                    \"user_rating\": {\n",
    "                        \"aggregate_rating\": \"3.5\",\n",
    "                        \"rating_text\": \"Average\"\n",
    "                    }\n",
    "                }\n",
    "            }\n",
    "        ]\n",
    "    }\n",
    "]\n",
    "\n",
    "rating_thresholds = get_rating_thresholds(mock_data)\n",
    "\n",
    "# Assert the results\n",
    "expected_rating_thresholds = {\n",
    "    \"Excellent\": {\"min\": 4.8, \"max\": 4.8},\n",
    "    \"Very Good\": {\"min\": float('inf'), \"max\": float('-inf')},\n",
    "    \"Good\": {\"min\": 4.0, \"max\": 4.0},\n",
    "    \"Average\": {\"min\": 3.5, \"max\": 3.5},\n",
    "    \"Poor\": {\"min\": float('inf'), \"max\": float('-inf')}\n",
    "}\n",
    "\n",
    "if rating_thresholds == expected_rating_thresholds:\n",
    "    print(\"Unit test passed: Rating thresholds match expected values.\")\n",
    "else:\n",
    "    print(\"Unit test failed: Rating thresholds do not match expected values.\")\n"
   ]
  }
 ],
 "metadata": {
  "kernelspec": {
   "display_name": "Python 3",
   "language": "python",
   "name": "python3"
  },
  "language_info": {
   "codemirror_mode": {
    "name": "ipython",
    "version": 3
   },
   "file_extension": ".py",
   "mimetype": "text/x-python",
   "name": "python",
   "nbconvert_exporter": "python",
   "pygments_lexer": "ipython3",
   "version": "3.11.8"
  }
 },
 "nbformat": 4,
 "nbformat_minor": 2
}
